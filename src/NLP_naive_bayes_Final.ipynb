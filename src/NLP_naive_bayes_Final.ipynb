{
  "nbformat": 4,
  "nbformat_minor": 0,
  "metadata": {
    "colab": {
      "provenance": []
    },
    "kernelspec": {
      "name": "python3",
      "display_name": "Python 3"
    },
    "language_info": {
      "name": "python"
    }
  },
  "cells": [
    {
      "cell_type": "markdown",
      "source": [
        "Preproccessing part of code, including reading from input files, removing extra characters, lemmatization, ..."
      ],
      "metadata": {
        "id": "v8fJY9b1WUgl"
      }
    },
    {
      "cell_type": "code",
      "source": [
        "from google.colab import drive\n",
        "import pandas as pd\n",
        "import numpy as np\n",
        "from nltk.tokenize.toktok import ToktokTokenizer\n",
        "import nltk\n",
        "from bs4 import BeautifulSoup\n",
        "import re\n",
        "import spacy\n",
        "from nltk.corpus import stopwords\n",
        "nltk.download('stopwords')\n",
        "stop=set(stopwords.words('english'))\n",
        "tokenizer = ToktokTokenizer()\n",
        "import spacy\n",
        "nlp = spacy.load(\"en_core_web_sm\")"
      ],
      "metadata": {
        "id": "UJPhRlHAOtYg",
        "colab": {
          "base_uri": "https://localhost:8080/"
        },
        "outputId": "5fc16f9c-58fb-411e-ef9e-f4356efba1bc"
      },
      "execution_count": null,
      "outputs": [
        {
          "output_type": "stream",
          "name": "stderr",
          "text": [
            "[nltk_data] Downloading package stopwords to /root/nltk_data...\n",
            "[nltk_data]   Unzipping corpora/stopwords.zip.\n"
          ]
        }
      ]
    },
    {
      "cell_type": "code",
      "execution_count": null,
      "metadata": {
        "id": "YIKFxB38N1Wd"
      },
      "outputs": [],
      "source": [
        "def mount_drive(path):\n",
        "  drive.mount(path)"
      ]
    },
    {
      "cell_type": "code",
      "source": [
        "def create_new_dataframe(input_file):\n",
        "  dataset = pd.read_csv(input_file, sep = ':::')\n",
        "  new_df = dataset.iloc[:, [2, 3]].copy()\n",
        "  new_df.columns = ['X', 'Y']\n",
        "  return new_df"
      ],
      "metadata": {
        "id": "UIGoDxrqPtvS"
      },
      "execution_count": null,
      "outputs": []
    },
    {
      "cell_type": "code",
      "source": [
        "def removal(text) :\n",
        "  #print(text)\n",
        "  soup = BeautifulSoup(text, \"html.parser\")\n",
        "  text = soup.get_text()\n",
        "  text = re.sub('\\[[^]]*\\]', '', text)\n",
        "  text = text.translate(text.maketrans(\"\\n\\t\\r\", \"   \"))\n",
        "  special_char_pattern = re.compile(r'([{.(-)!}])')\n",
        "  text = special_char_pattern.sub(\" \\\\1 \", text)\n",
        "  text = re.sub(r'[^a-zA-Z0-9\\s]|\\[|\\]', '', text)\n",
        "  return text"
      ],
      "metadata": {
        "id": "QszwCL-1RRaC"
      },
      "execution_count": null,
      "outputs": []
    },
    {
      "cell_type": "code",
      "source": [
        "def lemmatize(text):\n",
        "  text = nlp(text)\n",
        "  text = ' '.join([word.lemma_ if word.lemma_ != '-PRON-' else word.text for word in text])\n",
        "  return text"
      ],
      "metadata": {
        "id": "I_qse5DZRtBR"
      },
      "execution_count": null,
      "outputs": []
    },
    {
      "cell_type": "code",
      "source": [
        "def stopwords(text):\n",
        "  tokens = tokenizer.tokenize(text)\n",
        "  tokens = [token.strip() for token in tokens]\n",
        "  filtered_tokens = [token for token in tokens if token.lower() not in stop]\n",
        "  filtered_text = ' '.join(filtered_tokens)\n",
        "  return filtered_text"
      ],
      "metadata": {
        "id": "fbfzneWKR4Ye"
      },
      "execution_count": null,
      "outputs": []
    },
    {
      "cell_type": "code",
      "source": [
        "def text_preprocessing(path):\n",
        "  DataFrame = create_new_dataframe(path)\n",
        "  #DataFrame = DataFrame.apply(removal).apply(lemmatize).apply(stopwords)\n",
        "  DataFrame['X'] = DataFrame['X'].map(removal)\n",
        "  DataFrame['X'] = DataFrame['X'].map(lemmatize)\n",
        "  DataFrame['X'] = DataFrame['X'].map(stopwords)\n",
        "  return DataFrame\n"
      ],
      "metadata": {
        "id": "hLJ7NFvzQD3G"
      },
      "execution_count": null,
      "outputs": []
    },
    {
      "cell_type": "markdown",
      "source": [
        "Main part of code to text preprocessing"
      ],
      "metadata": {
        "id": "MS6Nyed2WwmS"
      }
    },
    {
      "cell_type": "code",
      "source": [
        "train_df = text_preprocessing(\"drive/My Drive/NLP/data/train.txt\")\n",
        "test_df  = text_preprocessing(\"drive/My Drive/NLP/data/test.txt\")"
      ],
      "metadata": {
        "id": "bYy8MB-8Qzr8"
      },
      "execution_count": null,
      "outputs": []
    },
    {
      "cell_type": "code",
      "source": [
        "test_df.to_csv('/content/drive/My Drive/NLP/clean_test.csv', index=False)\n",
        "train_df.to_csv('/content/drive/My Drive/NLP/clean_train.csv', index=False)\n",
        "print(train_df.shape)\n",
        "print(test_df.shape)"
      ],
      "metadata": {
        "id": "8Al46N1QlUyT"
      },
      "execution_count": null,
      "outputs": []
    },
    {
      "cell_type": "markdown",
      "source": [
        "In this area of code, clean training and test loaded into memory"
      ],
      "metadata": {
        "id": "mRm2Lg8NWHJF"
      }
    },
    {
      "cell_type": "code",
      "source": [
        "from google.colab import drive\n",
        "import pandas as pd\n",
        "import numpy as np"
      ],
      "metadata": {
        "id": "PjHDBkpzU2rV"
      },
      "execution_count": null,
      "outputs": []
    },
    {
      "cell_type": "code",
      "source": [
        "def mount_drive(path):\n",
        "  drive.mount(path)\n",
        "\n",
        "mount_drive('/content/drive')"
      ],
      "metadata": {
        "id": "KjgF9iH5V_ip",
        "colab": {
          "base_uri": "https://localhost:8080/"
        },
        "outputId": "eb1520a5-4b19-4353-c4a5-6995bf583c36"
      },
      "execution_count": null,
      "outputs": [
        {
          "output_type": "stream",
          "name": "stdout",
          "text": [
            "Mounted at /content/drive\n"
          ]
        }
      ]
    },
    {
      "cell_type": "code",
      "source": [
        "TestData = pd.read_csv('/content/drive/My Drive/NLP/clean_test.csv')\n",
        "TrainData = pd.read_csv('/content/drive/My Drive/NLP/clean_train.csv')\n",
        "print(TestData.shape)\n",
        "print(TrainData.shape)"
      ],
      "metadata": {
        "colab": {
          "base_uri": "https://localhost:8080/"
        },
        "id": "jGXhhjmIq48-",
        "outputId": "78cae0b9-57cb-4798-99b6-26ccd1864e3c"
      },
      "execution_count": null,
      "outputs": [
        {
          "output_type": "stream",
          "name": "stdout",
          "text": [
            "(7968, 2)\n",
            "(45149, 2)\n"
          ]
        }
      ]
    },
    {
      "cell_type": "code",
      "source": [
        "def custom_label_encoder(df, column):\n",
        "    df[column] = pd.Categorical(df[column]).codes\n",
        "    return df"
      ],
      "metadata": {
        "id": "WZcAvDQsadlq"
      },
      "execution_count": null,
      "outputs": []
    },
    {
      "cell_type": "code",
      "source": [
        "def merge_and_encode(TrainData, TestData, column):\n",
        "    TrainData['source'] = 'train'\n",
        "    TestData['source'] = 'test'\n",
        "    combined_data = pd.concat([TrainData, TestData], ignore_index=True)\n",
        "    combined_data = custom_label_encoder(combined_data, column)\n",
        "    TrainData_encoded = combined_data[combined_data['source'] == 'train'].drop(columns=['source'])\n",
        "    TestData_encoded = combined_data[combined_data['source'] == 'test'].drop(columns=['source']).reset_index(drop=True)\n",
        "    return TrainData_encoded, TestData_encoded"
      ],
      "metadata": {
        "id": "0CkV7b_cobPD"
      },
      "execution_count": null,
      "outputs": []
    },
    {
      "cell_type": "code",
      "source": [
        "TrainData, TestData = merge_and_encode(TrainData, TestData, 'Y')\n",
        "#TestData.reset_index(drop=True)\n",
        "print(TrainData.head())\n",
        "print(TestData.head())"
      ],
      "metadata": {
        "id": "FkkhOmzxa3h-",
        "colab": {
          "base_uri": "https://localhost:8080/"
        },
        "outputId": "14994a50-0db2-4f3d-ef22-382bd7b57e96"
      },
      "execution_count": null,
      "outputs": [
        {
          "output_type": "stream",
          "name": "stdout",
          "text": [
            "                                                   X   Y\n",
            "0  beginning 21st Century , World War raged stop ...   0\n",
            "1  Eighteen year-old Alex , 13 year-old Maggie , ...   7\n",
            "2  Four friends plan camping trip small campgroun...  11\n",
            "3  series , Ernie Coombes hosts simple formated T...   8\n",
            "4  According legend , God gave Vincente Ferrer , ...   6\n",
            "                                                   X   Y\n",
            "0  Sandro wellknown journalist conduct survey hum...   4\n",
            "1  young boy life change kidnap sea pirate prison...  18\n",
            "2  coast Yugoslavia live fisherman Ivo Kralj wife...   7\n",
            "3  Crime TV show mosaic individual criminal case ...   5\n",
            "4  Adam lost soul lose girlfriend Amy plum office...  18\n"
          ]
        }
      ]
    },
    {
      "cell_type": "code",
      "source": [
        "from collections import Counter\n",
        "\n",
        "def MyDict(dataset, threshold):\n",
        "    token_counter = Counter()\n",
        "    for words in dataset['X'].str.split():\n",
        "        token_counter.update(words)\n",
        "    filtered_tokens = {word: count for word, count in token_counter.items() if count >= threshold}\n",
        "    vocabulary = {word: idx for idx, word in enumerate(sorted(filtered_tokens))}\n",
        "\n",
        "    return vocabulary"
      ],
      "metadata": {
        "id": "7SRFzDiNnOPt"
      },
      "execution_count": null,
      "outputs": []
    },
    {
      "cell_type": "code",
      "source": [
        "import string\n",
        "from collections import Counter\n",
        "\n",
        "def MyDict(dataset, threshold):\n",
        "    token_counter = Counter()\n",
        "    punctuation_table = str.maketrans('', '', string.punctuation)\n",
        "    for words in dataset['X'].str.split():\n",
        "        cleaned_words = [word.translate(punctuation_table) for word in words]\n",
        "        token_counter.update(cleaned_words)\n",
        "    filtered_tokens = {word: count for word, count in token_counter.items() if count >= threshold and word}\n",
        "    vocabulary = {word: idx for idx, word in enumerate(sorted(filtered_tokens))}\n",
        "    return vocabulary\n"
      ],
      "metadata": {
        "id": "RY65MhHTXMBZ"
      },
      "execution_count": null,
      "outputs": []
    },
    {
      "cell_type": "code",
      "source": [
        "from scipy.sparse import lil_matrix, csr_matrix\n",
        "\n",
        "def MyBagOfWords(dataset, vocabulary):\n",
        "    num_documents = len(dataset)\n",
        "    num_tokens = len(vocabulary)\n",
        "    bag_of_words = lil_matrix((num_documents, num_tokens), dtype=int)\n",
        "    for row in dataset.itertuples(index=True):\n",
        "        index = row.Index\n",
        "        words = row.X.split()\n",
        "        for word in words:\n",
        "            if word in vocabulary:\n",
        "                bag_of_words[index, vocabulary[word]] += 1\n",
        "    bag_of_words = bag_of_words.tocsr()\n",
        "\n",
        "    return bag_of_words"
      ],
      "metadata": {
        "id": "VWVAkijS1aX7"
      },
      "execution_count": null,
      "outputs": []
    },
    {
      "cell_type": "code",
      "source": [
        "vocab = MyDict(TrainData, 4)\n",
        "print(len(vocab))\n",
        "bow_train = MyBagOfWords(TrainData, vocab)\n",
        "bow_test = MyBagOfWords(TestData, vocab)\n",
        "print(bow_train.shape)\n",
        "print(bow_test.shape)"
      ],
      "metadata": {
        "id": "f4LLE5gclFex",
        "colab": {
          "base_uri": "https://localhost:8080/"
        },
        "outputId": "b0f5f0d2-3da6-4cf9-8569-7eb3400543fc"
      },
      "execution_count": null,
      "outputs": [
        {
          "output_type": "stream",
          "name": "stdout",
          "text": [
            "43574\n",
            "(45149, 43574)\n",
            "(7968, 43574)\n"
          ]
        }
      ]
    },
    {
      "cell_type": "code",
      "source": [
        "from collections import defaultdict, Counter\n",
        "\n",
        "def class_probability(labels):\n",
        "    total_examples = len(labels)\n",
        "    probabilities = dict(Counter(labels))\n",
        "    for key in probabilities.keys():\n",
        "        probabilities[key] = probabilities[key] / float(total_examples)\n",
        "    return probabilities\n",
        "\n",
        "def feature_probability(feature_counts, total_word_count, vocab_size, alpha):\n",
        "    total_feature_weight = feature_counts.sum()\n",
        "    probability = (total_feature_weight + alpha) / (total_word_count + alpha * vocab_size)\n",
        "    return probability\n",
        "\n",
        "def naive_bayes_train(feature_matrix, labels, vocab, alpha=1.0):\n",
        "    class_probs = class_probability(labels)\n",
        "    unique_classes = np.unique(labels)\n",
        "    num_rows, num_features = feature_matrix.shape\n",
        "\n",
        "    feature_likelihoods = {}\n",
        "    for cls in unique_classes:\n",
        "        feature_likelihoods[cls] = np.zeros(num_features)\n",
        "\n",
        "    for cls in unique_classes:\n",
        "        row_indices = np.where(labels == cls)[0]\n",
        "        class_docs = feature_matrix[row_indices, :]\n",
        "        total_word_count = class_docs.sum()\n",
        "        num_docs, vector_length = class_docs.shape\n",
        "\n",
        "        for i in range(vector_length):\n",
        "            feature_col = class_docs[:, i]\n",
        "            feature_likelihoods[cls][i] = feature_probability(feature_col, total_word_count, len(vocab), alpha)\n",
        "\n",
        "    return class_probs, feature_likelihoods"
      ],
      "metadata": {
        "id": "7Qi5r2b1l1oj"
      },
      "execution_count": null,
      "outputs": []
    },
    {
      "cell_type": "code",
      "source": [
        "def naive_bayes_test(feature_matrix, class_probs, feature_likelihoods):\n",
        "    log_class_probs = {cls: np.log(prob) for cls, prob in class_probs.items()}\n",
        "    log_feature_likelihoods = {cls: np.log(likelihoods) for cls, likelihoods in feature_likelihoods.items()}\n",
        "\n",
        "    predictions = []\n",
        "    for i in range(feature_matrix.shape[0]):\n",
        "        current_features = feature_matrix[i]\n",
        "        class_predictions = {}\n",
        "        for cls, log_cls_prob in log_class_probs.items():\n",
        "            log_prob = log_cls_prob\n",
        "            log_prob += (current_features @ log_feature_likelihoods[cls].T).sum()\n",
        "            class_predictions[cls] = log_prob\n",
        "        predicted_class = max(class_predictions, key=class_predictions.get)\n",
        "        predictions.append(predicted_class)\n",
        "    return predictions\n"
      ],
      "metadata": {
        "id": "cV4zNFXkmEFE"
      },
      "execution_count": null,
      "outputs": []
    },
    {
      "cell_type": "markdown",
      "source": [
        "This is a save function with pickle library to save the Naive Bayes generated model. Before that, train the model"
      ],
      "metadata": {
        "id": "r1iFS5QYZ_4A"
      }
    },
    {
      "cell_type": "code",
      "source": [
        "import pickle\n",
        "def save_naive_bayes_model(class_probs, feature_likelihoods, filepath):\n",
        "    model = {\n",
        "        'class_probs': class_probs,\n",
        "        'feature_likelihoods': feature_likelihoods\n",
        "    }\n",
        "    with open(filepath, 'wb') as f:\n",
        "        pickle.dump(model, f)\n",
        "\n",
        "p_class, p_features = naive_bayes_train(bow_train, TrainData['Y'], vocab, 0.5)\n",
        "save_naive_bayes_model(p_class, p_features, '/content/drive/My Drive/NLP/naive_bayes_model.pkl')"
      ],
      "metadata": {
        "id": "ker09VWfrFv-"
      },
      "execution_count": null,
      "outputs": []
    },
    {
      "cell_type": "markdown",
      "source": [
        "This is a function to load the Naive Bayes model"
      ],
      "metadata": {
        "id": "VQe91Wd2aUDG"
      }
    },
    {
      "cell_type": "code",
      "source": [
        "import pickle\n",
        "def load_naive_bayes_model(filepath):\n",
        "    with open(filepath, 'rb') as f:\n",
        "        model = pickle.load(f)\n",
        "    return model['class_probs'], model['feature_likelihoods']\n",
        "\n",
        "loaded_class_probs, loaded_feature_likelihoods = load_naive_bayes_model('/content/drive/My Drive/NLP/naive_bayes_model.pkl')\n",
        "predictions = naive_bayes_test(bow_test, loaded_class_probs, loaded_feature_likelihoods)"
      ],
      "metadata": {
        "id": "mzXjH11nrNOI"
      },
      "execution_count": null,
      "outputs": []
    },
    {
      "cell_type": "code",
      "source": [
        "import matplotlib.pyplot as plt\n",
        "\n",
        "def visualize_class_probabilities(class_probs):\n",
        "    classes = list(class_probs.keys())\n",
        "    probabilities = list(class_probs.values())\n",
        "\n",
        "    plt.figure(figsize=(10, 6))\n",
        "    plt.bar(classes, probabilities, color='skyblue')\n",
        "    plt.xlabel('Classes')\n",
        "    plt.ylabel('Probabilities')\n",
        "    plt.title('Class Probabilities')\n",
        "    plt.show()\n",
        "\n",
        "def visualize_feature_likelihoods(feature_likelihoods, vocab, top_n=10, max_classes=5):\n",
        "    classes = list(feature_likelihoods.keys())[:max_classes]  # Limit to max_classes\n",
        "    vocab_list = np.array(vocab) if isinstance(vocab, (list, tuple, np.ndarray)) else np.array(list(vocab))\n",
        "\n",
        "    fig, ax = plt.subplots(figsize=(12, 8))\n",
        "\n",
        "    for cls in classes:\n",
        "        likelihoods = feature_likelihoods[cls]\n",
        "        top_features_indices = np.argsort(likelihoods)[-top_n:]\n",
        "        top_features = vocab_list[top_features_indices]\n",
        "        top_likelihoods = likelihoods[top_features_indices]\n",
        "\n",
        "        ax.bar(top_features, top_likelihoods, label=f'Class {cls}')\n",
        "\n",
        "    ax.set_ylabel('Likelihoods')\n",
        "    ax.set_xlabel('Features')\n",
        "    ax.set_title(f'Top {top_n} Feature Likelihoods for up to {max_classes} Classes')\n",
        "    ax.legend()\n",
        "    plt.xticks(rotation=45)\n",
        "    plt.tight_layout()\n",
        "    plt.show()\n",
        "\n",
        "visualize_class_probabilities(loaded_class_probs)\n",
        "\n",
        "visualize_feature_likelihoods(loaded_feature_likelihoods, vocab)"
      ],
      "metadata": {
        "colab": {
          "base_uri": "https://localhost:8080/",
          "height": 1000
        },
        "id": "uwYxGklaJ4L2",
        "outputId": "4a161c01-33fb-4bc5-e8a7-cffeafcb2970"
      },
      "execution_count": null,
      "outputs": [
        {
          "output_type": "display_data",
          "data": {
            "text/plain": [
              "<Figure size 1000x600 with 1 Axes>"
            ],
            "image/png": "[encoded data removed]"
          },
          "metadata": {}
        },
        {
          "output_type": "display_data",
          "data": {
            "text/plain": [
              "<Figure size 1200x800 with 1 Axes>"
            ],
            "image/png": "[encoded data removed]"
          },
          "metadata": {}
        }
      ]
    },
    {
      "cell_type": "markdown",
      "source": [
        "This function predict using the loaded model."
      ],
      "metadata": {
        "id": "x4P9U9zIasIm"
      }
    },
    {
      "cell_type": "code",
      "source": [
        "from collections import defaultdict\n",
        "\n",
        "def evaluate_accuracy(predictions, true_labels):\n",
        "    correct = sum(pred == true for pred, true in zip(predictions, true_labels))\n",
        "    return correct / len(true_labels)\n",
        "\n",
        "def calculate_precision_recall_f1(predictions, true_labels, average='macro'):\n",
        "    class_labels = np.unique(true_labels)\n",
        "    precision_dict = defaultdict(int)\n",
        "    recall_dict = defaultdict(int)\n",
        "    f1_dict = defaultdict(int)\n",
        "\n",
        "    for label in class_labels:\n",
        "        true_positive = sum((pred == label) & (true == label) for pred, true in zip(predictions, true_labels))\n",
        "        predicted_positive = sum(pred == label for pred in predictions)\n",
        "        actual_positive = sum(true == label for true in true_labels)\n",
        "\n",
        "        precision = true_positive / predicted_positive if predicted_positive != 0 else 0\n",
        "        recall = true_positive / actual_positive if actual_positive != 0 else 0\n",
        "        f1_score = 2 * (precision * recall) / (precision + recall) if (precision + recall) != 0 else 0\n",
        "\n",
        "        precision_dict[label] = precision\n",
        "        recall_dict[label] = recall\n",
        "        f1_dict[label] = f1_score\n",
        "\n",
        "    if average == 'macro':\n",
        "        precision = np.mean(list(precision_dict.values()))\n",
        "        recall = np.mean(list(recall_dict.values()))\n",
        "        f1_score = np.mean(list(f1_dict.values()))\n",
        "    elif average == 'micro':\n",
        "        true_positive = sum((pred == true) for pred, true in zip(predictions, true_labels))\n",
        "        predicted_positive = sum(predictions)\n",
        "        actual_positive = sum(true_labels)\n",
        "\n",
        "        precision = true_positive / predicted_positive if predicted_positive != 0 else 0\n",
        "        recall = true_positive / actual_positive if actual_positive != 0 else 0\n",
        "        f1_score = 2 * (precision * recall) / (precision + recall) if (precision + recall) != 0 else 0\n",
        "    else:\n",
        "        raise ValueError(\"Unsupported average type. Use 'macro' or 'micro'.\")\n",
        "\n",
        "    return precision, recall, f1_score\n",
        "\n",
        "# Evaluate accuracy\n",
        "loaded_accuracy = evaluate_accuracy(predictions, np.array(TestData['Y']))\n",
        "print(f\"Loaded Model Accuracy: {loaded_accuracy * 100:.2f}%\")\n",
        "\n",
        "# Evaluate precision, recall, and F1 score\n",
        "precision, recall, f1_score = calculate_precision_recall_f1(predictions, np.array(TestData['Y']), average='macro')\n",
        "\n",
        "print(f\"Precision: {precision:.2f}\")\n",
        "print(f\"Recall: {recall:.2f}\")\n",
        "print(f\"F1 Score: {f1_score:.2f}\")\n"
      ],
      "metadata": {
        "colab": {
          "base_uri": "https://localhost:8080/"
        },
        "id": "Crvt_NTJdzuI",
        "outputId": "cc4e9a3f-5826-4177-a4d2-f562e6642cf7"
      },
      "execution_count": null,
      "outputs": [
        {
          "output_type": "stream",
          "name": "stdout",
          "text": [
            "Loaded Model Accuracy: 55.65%\n",
            "Precision: 0.42\n",
            "Recall: 0.29\n",
            "F1 Score: 0.30\n"
          ]
        }
      ]
    },
    {
      "cell_type": "code",
      "source": [
        "import matplotlib.pyplot as plt\n",
        "import seaborn as sns\n",
        "\n",
        "# Data for visualization\n",
        "metrics = ['Accuracy', 'Precision', 'Recall', 'F1 Score']\n",
        "values = [loaded_accuracy, precision, recall, f1_score]\n",
        "\n",
        "# Create a DataFrame for seaborn\n",
        "df = pd.DataFrame({'Metric': metrics, 'Value': values})\n",
        "\n",
        "# Set the style\n",
        "sns.set(style=\"whitegrid\")\n",
        "\n",
        "# Create a barplot\n",
        "plt.figure(figsize=(10, 6))\n",
        "bar_plot = sns.barplot(x='Metric', y='Value', hue='Metric', data=df, palette='viridis', dodge=False, legend=False)\n",
        "\n",
        "# Add values on top of bars\n",
        "for p in bar_plot.patches:\n",
        "    bar_plot.annotate(format(p.get_height(), '.2f'),\n",
        "                      (p.get_x() + p.get_width() / 2., p.get_height()),\n",
        "                      ha = 'center', va = 'center',\n",
        "                      xytext = (0, 9),\n",
        "                      textcoords = 'offset points')\n",
        "\n",
        "# Setting labels and title\n",
        "plt.xlabel('Metrics')\n",
        "plt.ylabel('Scores')\n",
        "plt.title('Model Performance Metrics')\n",
        "plt.ylim(0, 1)  # Assuming all metrics are in range [0, 1]\n",
        "\n",
        "# Show the plot\n",
        "plt.show()"
      ],
      "metadata": {
        "colab": {
          "base_uri": "https://localhost:8080/",
          "height": 573
        },
        "id": "-emvACFHfCQM",
        "outputId": "1909ebef-c1bb-4bb4-b2eb-27d17f4b8660"
      },
      "execution_count": null,
      "outputs": [
        {
          "output_type": "display_data",
          "data": {
            "text/plain": [
              "<Figure size 1000x600 with 1 Axes>"
            ],
            "image/png": "[encoded data removed]"
          },
          "metadata": {}
        }
      ]
    },
    {
      "cell_type": "markdown",
      "source": [
        "This part of code can be used if you want running the code without using the saved model. Beware that i**t may be need time to train the code**"
      ],
      "metadata": {
        "id": "N65Hc82CfwSK"
      }
    },
    {
      "cell_type": "code",
      "source": [
        "p_class, p_features = naive_bayes_train(bow_train, TrainData['Y'], vocab, 0.5)\n",
        "predictions = naive_bayes_test(bow_test, p_class, p_features)\n",
        "accuracy = evaluate_accuracy(predictions, TestData['Y'])\n",
        "print(f\"Accuracy: {accuracy * 100:.2f}%\")\n",
        "loaded_class_probs, loaded_feature_likelihoods = p_class, p_features"
      ],
      "metadata": {
        "id": "N1DFVIOWmSvG"
      },
      "execution_count": null,
      "outputs": []
    },
    {
      "cell_type": "markdown",
      "source": [
        "# **Old, My Naive Bayes**"
      ],
      "metadata": {
        "id": "aD90ESDFr9j3"
      }
    },
    {
      "cell_type": "code",
      "source": [
        "def class_probability(labels):\n",
        "    total_examples = len(labels)\n",
        "    probabilities = dict(Counter(labels))\n",
        "    for key in probabilities.keys():\n",
        "        probabilities[key] = probabilities[key] / float(total_examples)\n",
        "    return probabilities\n",
        "\n",
        "def feature_probability(feature_counts, total_word_count, vocab_size, alpha):\n",
        "    total_feature_weight = feature_counts.sum()\n",
        "    probability = (total_feature_weight + alpha) / (total_word_count + alpha * vocab_size)\n",
        "    return probability\n",
        "\n",
        "def naive_bayes_train(feature_matrix, labels, vocab, alpha=1.0):\n",
        "    class_probs = class_probability(labels)\n",
        "    unique_classes = np.unique(labels)\n",
        "    num_rows, num_features = feature_matrix.shape\n",
        "\n",
        "    feature_likelihoods = {}\n",
        "    for cls in unique_classes:\n",
        "        feature_likelihoods[cls] = defaultdict(list)\n",
        "\n",
        "    for cls in unique_classes:\n",
        "        row_indices = np.where(labels == cls)[0]\n",
        "        class_docs = feature_matrix[row_indices, :]\n",
        "        total_word_count = class_docs.sum()\n",
        "        num_docs, vector_length = class_docs.shape\n",
        "\n",
        "        for i in range(vector_length):\n",
        "            feature_col = class_docs[:, i]\n",
        "            feature_likelihoods[cls][i] = feature_probability(feature_col, total_word_count, len(vocab), alpha)\n",
        "\n",
        "    return class_probs, feature_likelihoods"
      ],
      "metadata": {
        "id": "apOVOK7-NCKL"
      },
      "execution_count": null,
      "outputs": []
    },
    {
      "cell_type": "code",
      "source": [
        "def naive_bayes_test(feature_matrix, labels, class_probs, feature_likelihoods):\n",
        "    predictions = {}\n",
        "    labels_list = list(labels)\n",
        "\n",
        "    for i in range(feature_matrix.shape[0]):\n",
        "        current_features = feature_matrix[i]\n",
        "        current_label = labels_list[i]\n",
        "        class_predictions = {}\n",
        "        for cls, cls_prob in class_probs.items():\n",
        "            prob = cls_prob\n",
        "            current_features_nonzero = current_features.nonzero()[1]\n",
        "            for feature_index in current_features_nonzero:\n",
        "                feature_count = current_features[0, feature_index]\n",
        "                if feature_count > 0:\n",
        "                    feature_prob = feature_likelihoods[cls][feature_index] ** feature_count\n",
        "                    prob *= feature_prob\n",
        "            class_predictions[cls] = prob\n",
        "        sorted_predictions = sorted(class_predictions.items(), key=lambda kv: kv[1], reverse=True)\n",
        "        predictions[i] = sorted_predictions\n",
        "\n",
        "    return predictions"
      ],
      "metadata": {
        "id": "JplB1x_hfMdJ"
      },
      "execution_count": null,
      "outputs": []
    }
  ]
}